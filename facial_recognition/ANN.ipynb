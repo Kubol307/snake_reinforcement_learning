{
 "cells": [
  {
   "cell_type": "code",
   "execution_count": 1,
   "id": "26d5d537",
   "metadata": {},
   "outputs": [
    {
     "name": "stdout",
     "output_type": "stream",
     "text": [
      "Requirement already satisfied: import-ipynb in /home/jakub/.local/lib/python3.8/site-packages (0.1.4)\n",
      "Requirement already satisfied: IPython in /home/jakub/.local/lib/python3.8/site-packages (from import-ipynb) (8.12.2)\n",
      "Requirement already satisfied: nbformat in /home/jakub/.local/lib/python3.8/site-packages (from import-ipynb) (5.9.1)\n",
      "Requirement already satisfied: backcall in /home/jakub/.local/lib/python3.8/site-packages (from IPython->import-ipynb) (0.2.0)\n",
      "Requirement already satisfied: decorator in /home/jakub/.local/lib/python3.8/site-packages (from IPython->import-ipynb) (5.1.1)\n",
      "Requirement already satisfied: jedi>=0.16 in /home/jakub/.local/lib/python3.8/site-packages (from IPython->import-ipynb) (0.18.2)\n",
      "Requirement already satisfied: matplotlib-inline in /home/jakub/.local/lib/python3.8/site-packages (from IPython->import-ipynb) (0.1.6)\n",
      "Requirement already satisfied: pickleshare in /home/jakub/.local/lib/python3.8/site-packages (from IPython->import-ipynb) (0.7.5)\n",
      "Requirement already satisfied: prompt-toolkit!=3.0.37,<3.1.0,>=3.0.30 in /home/jakub/.local/lib/python3.8/site-packages (from IPython->import-ipynb) (3.0.39)\n",
      "Requirement already satisfied: pygments>=2.4.0 in /home/jakub/.local/lib/python3.8/site-packages (from IPython->import-ipynb) (2.15.1)\n",
      "Requirement already satisfied: stack-data in /home/jakub/.local/lib/python3.8/site-packages (from IPython->import-ipynb) (0.6.2)\n",
      "Requirement already satisfied: traitlets>=5 in /home/jakub/.local/lib/python3.8/site-packages (from IPython->import-ipynb) (5.9.0)\n",
      "Requirement already satisfied: typing-extensions; python_version < \"3.10\" in /home/jakub/.local/lib/python3.8/site-packages (from IPython->import-ipynb) (4.5.0)\n",
      "Requirement already satisfied: pexpect>4.3; sys_platform != \"win32\" in /usr/lib/python3/dist-packages (from IPython->import-ipynb) (4.6.0)\n",
      "Requirement already satisfied: fastjsonschema in /home/jakub/.local/lib/python3.8/site-packages (from nbformat->import-ipynb) (2.17.1)\n",
      "Requirement already satisfied: jsonschema>=2.6 in /home/jakub/.local/lib/python3.8/site-packages (from nbformat->import-ipynb) (4.18.0)\n",
      "Requirement already satisfied: jupyter-core in /home/jakub/.local/lib/python3.8/site-packages (from nbformat->import-ipynb) (5.3.1)\n",
      "Requirement already satisfied: parso<0.9.0,>=0.8.0 in /home/jakub/.local/lib/python3.8/site-packages (from jedi>=0.16->IPython->import-ipynb) (0.8.3)\n",
      "Requirement already satisfied: wcwidth in /usr/lib/python3/dist-packages (from prompt-toolkit!=3.0.37,<3.1.0,>=3.0.30->IPython->import-ipynb) (0.1.8)\n",
      "Requirement already satisfied: executing>=1.2.0 in /home/jakub/.local/lib/python3.8/site-packages (from stack-data->IPython->import-ipynb) (1.2.0)\n",
      "Requirement already satisfied: asttokens>=2.1.0 in /home/jakub/.local/lib/python3.8/site-packages (from stack-data->IPython->import-ipynb) (2.2.1)\n",
      "Requirement already satisfied: pure-eval in /home/jakub/.local/lib/python3.8/site-packages (from stack-data->IPython->import-ipynb) (0.2.2)\n",
      "Requirement already satisfied: attrs>=22.2.0 in /home/jakub/.local/lib/python3.8/site-packages (from jsonschema>=2.6->nbformat->import-ipynb) (23.1.0)\n",
      "Requirement already satisfied: importlib-resources>=1.4.0; python_version < \"3.9\" in /home/jakub/.local/lib/python3.8/site-packages (from jsonschema>=2.6->nbformat->import-ipynb) (5.12.0)\n",
      "Requirement already satisfied: jsonschema-specifications>=2023.03.6 in /home/jakub/.local/lib/python3.8/site-packages (from jsonschema>=2.6->nbformat->import-ipynb) (2023.6.1)\n",
      "Requirement already satisfied: pkgutil-resolve-name>=1.3.10; python_version < \"3.9\" in /home/jakub/.local/lib/python3.8/site-packages (from jsonschema>=2.6->nbformat->import-ipynb) (1.3.10)\n",
      "Requirement already satisfied: referencing>=0.28.4 in /home/jakub/.local/lib/python3.8/site-packages (from jsonschema>=2.6->nbformat->import-ipynb) (0.29.1)\n",
      "Requirement already satisfied: rpds-py>=0.7.1 in /home/jakub/.local/lib/python3.8/site-packages (from jsonschema>=2.6->nbformat->import-ipynb) (0.8.10)\n",
      "Requirement already satisfied: platformdirs>=2.5 in /home/jakub/.local/lib/python3.8/site-packages (from jupyter-core->nbformat->import-ipynb) (3.5.1)\n",
      "Requirement already satisfied: six in /usr/lib/python3/dist-packages (from asttokens>=2.1.0->stack-data->IPython->import-ipynb) (1.14.0)\n",
      "Requirement already satisfied: zipp>=3.1.0; python_version < \"3.10\" in /home/jakub/.local/lib/python3.8/site-packages (from importlib-resources>=1.4.0; python_version < \"3.9\"->jsonschema>=2.6->nbformat->import-ipynb) (3.15.0)\n"
     ]
    }
   ],
   "source": [
    "!pip install import-ipynb"
   ]
  },
  {
   "cell_type": "code",
   "execution_count": 2,
   "id": "2d0d3634",
   "metadata": {},
   "outputs": [
    {
     "name": "stdout",
     "output_type": "stream",
     "text": [
      "importing Jupyter notebook from util.ipynb\n",
      "Requirement already up-to-date: scikit-learn in /home/jakub/.local/lib/python3.8/site-packages (1.3.0)\n",
      "Requirement already satisfied, skipping upgrade: numpy>=1.17.3 in /home/jakub/.local/lib/python3.8/site-packages (from scikit-learn) (1.23.5)\n",
      "Requirement already satisfied, skipping upgrade: scipy>=1.5.0 in /home/jakub/.local/lib/python3.8/site-packages (from scikit-learn) (1.10.1)\n",
      "Requirement already satisfied, skipping upgrade: joblib>=1.1.1 in /home/jakub/.local/lib/python3.8/site-packages (from scikit-learn) (1.3.1)\n",
      "Requirement already satisfied, skipping upgrade: threadpoolctl>=2.0.0 in /home/jakub/.local/lib/python3.8/site-packages (from scikit-learn) (3.2.0)\n"
     ]
    }
   ],
   "source": [
    "import import_ipynb\n",
    "import matplotlib.pyplot as plt\n",
    "import numpy as np\n",
    "from sklearn.utils import shuffle\n",
    "import util"
   ]
  },
  {
   "cell_type": "code",
   "execution_count": 64,
   "id": "7369ce12",
   "metadata": {},
   "outputs": [],
   "source": [
    "class ANN:\n",
    "    def __init__(self, M):\n",
    "        self.M = M\n",
    "        \n",
    "    def fit(self, X, Y):\n",
    "        X, Y = shuffle(X, Y)\n",
    "        Xtrain = X[:-1000]\n",
    "        Ytrain = Y[:-1000]\n",
    "        Xvalid = X[-1000:]\n",
    "        Yvalid = Y[-1000:]\n",
    "        \n",
    "        T = util.y2indicator(Ytrain)\n",
    "#         Tvalid = Yvalid\n",
    "        Tvalid = util.y2indicator(Yvalid)\n",
    "        \n",
    "        N, D = X.shape\n",
    "        K = 7\n",
    "        \n",
    "        self.W1 = np.random.randn(D, self.M) / np.sqrt(D + self.M)\n",
    "        self.b1 = np.zeros(self.M)\n",
    "        self.W2 = np.random.randn(self.M, K) / np.sqrt(self.M + K)\n",
    "        self.b2 = np.zeros(K)\n",
    "        \n",
    "        epochs = 501\n",
    "        learning_rate = 3e-7\n",
    "        reg = 1e-6\n",
    "        costs = []\n",
    "        best_validation_error = 1\n",
    "        \n",
    "        for i in range(epochs):\n",
    "            pY, Z = self.forward(Xtrain)\n",
    "            \n",
    "            \n",
    "            self.W2 -= learning_rate*(Z.T.dot(pY - T) + reg*self.W2)\n",
    "            self.b2 -= learning_rate*((pY - T).sum(axis=0) + reg*self.b2)\n",
    "            \n",
    "            dZ = (pY - T).dot(self.W2.T)*(Z > 0)\n",
    "            \n",
    "            self.W1 -= learning_rate*(Xtrain.T.dot(dZ) + reg*self.W1)\n",
    "            self.b1 -= learning_rate*(dZ.sum(axis=0) + reg*self.b1)\n",
    "            \n",
    "            if i%20 == 0:\n",
    "                pYvalid = self.forward(Xvalid)\n",
    "                pYvalid = pYvalid[0]\n",
    "                pYvalid = np.array(pYvalid)\n",
    "                c = util.cost(Tvalid, pYvalid)\n",
    "                costs.append(c)\n",
    "                e = util.error_rate(Yvalid, np.argmax(pYvalid, axis=1))\n",
    "                if e < best_validation_error:\n",
    "                    best_validation_error = e\n",
    "                print(f'c:{c}, e: {e}, i: {i}')\n",
    "                \n",
    "        print(f'c:{c}, best validation error: {best_validation_error}, i: {i}')\n",
    "        plt.plot(costs)\n",
    "        plt.show()\n",
    "        print(self.W1, self.b1, self.W2, self.b2)\n",
    "\n",
    "            \n",
    "    def forward(self, X):\n",
    "        Z = util.relu(X.dot(self.W1) + self.b1)\n",
    "        return util.softmax(Z.dot(self.W2) + self.b2), Z\n",
    "    \n",
    "    "
   ]
  },
  {
   "cell_type": "code",
   "execution_count": 65,
   "id": "e417cc5d",
   "metadata": {},
   "outputs": [],
   "source": [
    "def main():\n",
    "    X, Y, _, _ = util.get_data()\n",
    "    ann = ANN(300)\n",
    "    ann.fit(X, Y)\n",
    "    "
   ]
  },
  {
   "cell_type": "code",
   "execution_count": 66,
   "id": "5b791874",
   "metadata": {},
   "outputs": [
    {
     "name": "stdout",
     "output_type": "stream",
     "text": [
      "(34356,)\n",
      "(34356, 2304)\n",
      "c:1874.2158954597205, e: 0.782, i: 0\n",
      "c:1814.3149254768905, e: 0.742, i: 20\n"
     ]
    },
    {
     "ename": "KeyboardInterrupt",
     "evalue": "",
     "output_type": "error",
     "traceback": [
      "\u001b[0;31m---------------------------------------------------------------------------\u001b[0m",
      "\u001b[0;31mKeyboardInterrupt\u001b[0m                         Traceback (most recent call last)",
      "Cell \u001b[0;32mIn[66], line 2\u001b[0m\n\u001b[1;32m      1\u001b[0m \u001b[38;5;28;01mif\u001b[39;00m \u001b[38;5;18m__name__\u001b[39m \u001b[38;5;241m==\u001b[39m \u001b[38;5;124m'\u001b[39m\u001b[38;5;124m__main__\u001b[39m\u001b[38;5;124m'\u001b[39m:\n\u001b[0;32m----> 2\u001b[0m     \u001b[43mmain\u001b[49m\u001b[43m(\u001b[49m\u001b[43m)\u001b[49m\n",
      "Cell \u001b[0;32mIn[65], line 4\u001b[0m, in \u001b[0;36mmain\u001b[0;34m()\u001b[0m\n\u001b[1;32m      2\u001b[0m X, Y, _, _ \u001b[38;5;241m=\u001b[39m util\u001b[38;5;241m.\u001b[39mget_data()\n\u001b[1;32m      3\u001b[0m ann \u001b[38;5;241m=\u001b[39m ANN(\u001b[38;5;241m300\u001b[39m)\n\u001b[0;32m----> 4\u001b[0m \u001b[43mann\u001b[49m\u001b[38;5;241;43m.\u001b[39;49m\u001b[43mfit\u001b[49m\u001b[43m(\u001b[49m\u001b[43mX\u001b[49m\u001b[43m,\u001b[49m\u001b[43m \u001b[49m\u001b[43mY\u001b[49m\u001b[43m)\u001b[49m\n",
      "Cell \u001b[0;32mIn[64], line 39\u001b[0m, in \u001b[0;36mANN.fit\u001b[0;34m(self, X, Y)\u001b[0m\n\u001b[1;32m     35\u001b[0m \u001b[38;5;28mself\u001b[39m\u001b[38;5;241m.\u001b[39mb2 \u001b[38;5;241m-\u001b[39m\u001b[38;5;241m=\u001b[39m learning_rate\u001b[38;5;241m*\u001b[39m((pY \u001b[38;5;241m-\u001b[39m T)\u001b[38;5;241m.\u001b[39msum(axis\u001b[38;5;241m=\u001b[39m\u001b[38;5;241m0\u001b[39m) \u001b[38;5;241m+\u001b[39m reg\u001b[38;5;241m*\u001b[39m\u001b[38;5;28mself\u001b[39m\u001b[38;5;241m.\u001b[39mb2)\n\u001b[1;32m     37\u001b[0m dZ \u001b[38;5;241m=\u001b[39m (pY \u001b[38;5;241m-\u001b[39m T)\u001b[38;5;241m.\u001b[39mdot(\u001b[38;5;28mself\u001b[39m\u001b[38;5;241m.\u001b[39mW2\u001b[38;5;241m.\u001b[39mT)\u001b[38;5;241m*\u001b[39m(Z \u001b[38;5;241m>\u001b[39m \u001b[38;5;241m0\u001b[39m)\n\u001b[0;32m---> 39\u001b[0m \u001b[38;5;28mself\u001b[39m\u001b[38;5;241m.\u001b[39mW1 \u001b[38;5;241m-\u001b[39m\u001b[38;5;241m=\u001b[39m learning_rate\u001b[38;5;241m*\u001b[39m(\u001b[43mXtrain\u001b[49m\u001b[38;5;241;43m.\u001b[39;49m\u001b[43mT\u001b[49m\u001b[38;5;241;43m.\u001b[39;49m\u001b[43mdot\u001b[49m\u001b[43m(\u001b[49m\u001b[43mdZ\u001b[49m\u001b[43m)\u001b[49m \u001b[38;5;241m+\u001b[39m reg\u001b[38;5;241m*\u001b[39m\u001b[38;5;28mself\u001b[39m\u001b[38;5;241m.\u001b[39mW1)\n\u001b[1;32m     40\u001b[0m \u001b[38;5;28mself\u001b[39m\u001b[38;5;241m.\u001b[39mb1 \u001b[38;5;241m-\u001b[39m\u001b[38;5;241m=\u001b[39m learning_rate\u001b[38;5;241m*\u001b[39m(dZ\u001b[38;5;241m.\u001b[39msum(axis\u001b[38;5;241m=\u001b[39m\u001b[38;5;241m0\u001b[39m) \u001b[38;5;241m+\u001b[39m reg\u001b[38;5;241m*\u001b[39m\u001b[38;5;28mself\u001b[39m\u001b[38;5;241m.\u001b[39mb1)\n\u001b[1;32m     42\u001b[0m \u001b[38;5;28;01mif\u001b[39;00m i\u001b[38;5;241m%\u001b[39m\u001b[38;5;241m20\u001b[39m \u001b[38;5;241m==\u001b[39m \u001b[38;5;241m0\u001b[39m:\n",
      "\u001b[0;31mKeyboardInterrupt\u001b[0m: "
     ]
    }
   ],
   "source": [
    "if __name__ == '__main__':\n",
    "    main()"
   ]
  }
 ],
 "metadata": {
  "kernelspec": {
   "display_name": "Python 3 (ipykernel)",
   "language": "python",
   "name": "python3"
  },
  "language_info": {
   "codemirror_mode": {
    "name": "ipython",
    "version": 3
   },
   "file_extension": ".py",
   "mimetype": "text/x-python",
   "name": "python",
   "nbconvert_exporter": "python",
   "pygments_lexer": "ipython3",
   "version": "3.8.10"
  }
 },
 "nbformat": 4,
 "nbformat_minor": 5
}
