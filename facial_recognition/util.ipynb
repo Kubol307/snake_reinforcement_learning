{
 "cells": [
  {
   "cell_type": "code",
   "execution_count": 1,
   "id": "593ae75d",
   "metadata": {},
   "outputs": [
    {
     "name": "stdout",
     "output_type": "stream",
     "text": [
      "Requirement already up-to-date: scikit-learn in /home/jakub/.local/lib/python3.8/site-packages (1.3.0)\n",
      "Requirement already satisfied, skipping upgrade: numpy>=1.17.3 in /home/jakub/.local/lib/python3.8/site-packages (from scikit-learn) (1.23.5)\n",
      "Requirement already satisfied, skipping upgrade: scipy>=1.5.0 in /home/jakub/.local/lib/python3.8/site-packages (from scikit-learn) (1.10.1)\n",
      "Requirement already satisfied, skipping upgrade: joblib>=1.1.1 in /home/jakub/.local/lib/python3.8/site-packages (from scikit-learn) (1.3.1)\n",
      "Requirement already satisfied, skipping upgrade: threadpoolctl>=2.0.0 in /home/jakub/.local/lib/python3.8/site-packages (from scikit-learn) (3.2.0)\n"
     ]
    }
   ],
   "source": [
    "!pip install -U scikit-learn"
   ]
  },
  {
   "cell_type": "code",
   "execution_count": 2,
   "id": "f0bcf6ab",
   "metadata": {},
   "outputs": [],
   "source": [
    "import numpy as np\n",
    "import pandas as pd\n",
    "import sklearn"
   ]
  },
  {
   "cell_type": "code",
   "execution_count": 3,
   "id": "3091ae49",
   "metadata": {},
   "outputs": [],
   "source": [
    "def init_weight_and_bias(X, M):\n",
    "    D = X.shape[1]\n",
    "    W = np.random.randn(D, M) / np.sqrt(D)\n",
    "    b = np.zeros(M)\n",
    "    return W.astype(np.float32), b.astype(np.float32)"
   ]
  },
  {
   "cell_type": "code",
   "execution_count": 4,
   "id": "459cb218",
   "metadata": {},
   "outputs": [],
   "source": [
    "def init_filter(shape, poolsz):\n",
    "    w = np.random.randn(*shape) * np.sqrt(2) / np.sqrt(np.prod(shape[1:]) + shape[0]*np.prod(shape[2:] / np.prod(poolsz)))\n",
    "    return w.astype(np.float32)"
   ]
  },
  {
   "cell_type": "code",
   "execution_count": 5,
   "id": "92d274f5",
   "metadata": {},
   "outputs": [],
   "source": [
    "def relu(x):\n",
    "    return x*(x>0)"
   ]
  },
  {
   "cell_type": "code",
   "execution_count": 6,
   "id": "28fe367b",
   "metadata": {},
   "outputs": [],
   "source": [
    "def sigmoid(x):\n",
    "    return 1 / (1+np.exp(-x))"
   ]
  },
  {
   "cell_type": "code",
   "execution_count": 7,
   "id": "4ba7a277",
   "metadata": {},
   "outputs": [],
   "source": [
    "def softmax(a):\n",
    "    expA = np.exp(a)\n",
    "    return expA / expA.sum(axis=1, keepdims=True)"
   ]
  },
  {
   "cell_type": "code",
   "execution_count": 8,
   "id": "f3ae6a6d",
   "metadata": {},
   "outputs": [],
   "source": [
    "def sigmoid_cost(T, Y):\n",
    "    return -(T*np.log(Y) + (1-T)*np.log(1-Y)).sum()"
   ]
  },
  {
   "cell_type": "code",
   "execution_count": 9,
   "id": "d8eda41b",
   "metadata": {},
   "outputs": [],
   "source": [
    "def cost(T, Y):\n",
    "    return -(T*np.log(Y)).sum()"
   ]
  },
  {
   "cell_type": "code",
   "execution_count": null,
   "id": "58250795",
   "metadata": {},
   "outputs": [],
   "source": [
    "def cost2(T, Y):\n",
    "    N = len(T)\n",
    "    return -np.log(Y[np.arange(N), T]).mean()"
   ]
  },
  {
   "cell_type": "code",
   "execution_count": 10,
   "id": "1bdef932",
   "metadata": {},
   "outputs": [],
   "source": [
    "def error_rate(T, Y):\n",
    "    return np.mean(T != Y)"
   ]
  },
  {
   "cell_type": "code",
   "execution_count": 11,
   "id": "69930085",
   "metadata": {},
   "outputs": [],
   "source": [
    "def y2indicator(Y):\n",
    "    N = Y.shape[0]\n",
    "    K = len(set(Y))\n",
    "    y_indicator = np.zeros((N, K))\n",
    "    for i in range(N):\n",
    "        y_indicator[i, int(Y[i])] = 1\n",
    "    return y_indicator"
   ]
  },
  {
   "cell_type": "code",
   "execution_count": 12,
   "id": "d447b34e",
   "metadata": {},
   "outputs": [],
   "source": [
    "def get_data(balance_ones=True, Ntest=1000):\n",
    "    Y = []\n",
    "    X = []\n",
    "    first = True\n",
    "    with open('dataset/icml_face_data.csv') as file:\n",
    "        for line in file.readlines():\n",
    "            line = line.split(',')\n",
    "            if first:\n",
    "                first = False\n",
    "            else:\n",
    "                Y.append(int(line[0]))\n",
    "                X.append([int(value) for value in line[2].split(' ')])\n",
    "\n",
    "\n",
    "    Y = np.array(Y, dtype=np.float32)\n",
    "    X = np.array(X, dtype=np.float32) / 255.0\n",
    "    \n",
    "    X, Y = sklearn.utils.shuffle(X, Y)\n",
    "    \n",
    "    Xtrain, Ytrain = X[:-Ntest], Y[:-Ntest]\n",
    "    Xtest, Ytest = X[-Ntest:], Y[-Ntest:]\n",
    "    \n",
    "    if balance_ones:\n",
    "        X0 = Xtrain[Ytrain != 1, :]\n",
    "        Y0 = Ytrain[Ytrain != 1]\n",
    "        X1 = Xtrain[Ytrain == 1, :]\n",
    "        X1 = Ytrain[Ytrain == 1]\n",
    "        X1 = np.repeat(X1, 9, axis=0)\n",
    "        print(Y0.shape)\n",
    "        print(X0.shape)\n",
    "        # Xtrain = np.vstack([X0, X1])\n",
    "        # Ytrain = np.concatenate((Y0, [1]*len(X1)))\n",
    "\n",
    "    return Xtrain, Ytrain, Xtest, Ytest"
   ]
  },
  {
   "cell_type": "code",
   "execution_count": 13,
   "id": "f52055e4",
   "metadata": {},
   "outputs": [],
   "source": [
    "def getImageData():\n",
    "    Xtrain, Ytrain, Xtest, Ytest = getData()\n",
    "    N, D = Xtrain.shape\n",
    "    d = int(np.sqrt(D))\n",
    "    Xtrain = Xtrain.reshape(-1, 1, d, d)\n",
    "    Xvalid = Xvalid.reshape(-1, 1, d, d)\n",
    "    return Xtrain, Ytrain, Xtest, Ytest"
   ]
  },
  {
   "cell_type": "code",
   "execution_count": 14,
   "id": "e2199fc4",
   "metadata": {},
   "outputs": [],
   "source": [
    "def get_binary_data(balance_ones=True, Ntest=1000):\n",
    "    Y = []\n",
    "    X = []\n",
    "    first = True\n",
    "    with open('dataset/icml_face_data.csv') as file:\n",
    "        for line in file.readlines():\n",
    "            line = line.split(',')\n",
    "            if first:\n",
    "                first = False\n",
    "            else:\n",
    "                y = int(line[0])\n",
    "                if y == 0 or y == 1:\n",
    "                    Y.append(int(line[0]))\n",
    "                    X.append([int(value) for value in line[2].split(' ')])\n",
    "\n",
    "\n",
    "    Y = np.array(Y, dtype=np.float32)\n",
    "    X = np.array(X, dtype=np.float32) / 255.0\n",
    "    \n",
    "    X, Y = sklearn.utils.shuffle(X, Y)\n",
    "\n",
    "    Xtrain, Ytrain = X[:-Ntest], Y[:-Ntest]\n",
    "    Xtest, Ytest = X[-Ntest:], Y[-Ntest:]\n",
    "    \n",
    "    # if balance_ones:\n",
    "    #     X0 = Xtrain[Ytrain != 1, :]\n",
    "    #     Y0 = Ytrain[Ytrain != 1]\n",
    "    #     X1 = Xtrain[Ytrain == 1, :]\n",
    "    #     X1 = Ytrain[Ytrain == 1]\n",
    "    #     X1 = np.repeat(X1, 9, axis=0)\n",
    "    #     Xtrain = np.vstack([X0, X1])\n",
    "    #     Ytrain = np.concatenate((Y0, [1]*X1.shape[0]))\n",
    "\n",
    "    return Xtrain, Ytrain, Xtest, Ytest\n",
    "    "
   ]
  },
  {
   "cell_type": "code",
   "execution_count": 15,
   "id": "c954a397",
   "metadata": {},
   "outputs": [],
   "source": [
    "def crossValidation(model, X, Y, K=5):\n",
    "    # split data into K parts\n",
    "    X, Y = shuffle(X, Y)\n",
    "    sz = len(Y) // K\n",
    "    errors = []\n",
    "    for k in range(K):\n",
    "        xtr = np.concatenate([ X[:k*sz, :], X[(k*sz + sz):, :] ])\n",
    "        ytr = np.concatenate([ Y[:k*sz], Y[(k*sz + sz):] ])\n",
    "        xte = X[k*sz:(k*sz + sz), :]\n",
    "        yte = Y[k*sz:(k*sz + sz)]\n",
    "\n",
    "        model.fit(xtr, ytr)\n",
    "        err = model.score(xte, yte)\n",
    "        errors.append(err)\n",
    "    print(\"errors:\", errors)\n",
    "    return np.mean(errors)"
   ]
  }
 ],
 "metadata": {
  "kernelspec": {
   "display_name": "Python 3 (ipykernel)",
   "language": "python",
   "name": "python3"
  },
  "language_info": {
   "codemirror_mode": {
    "name": "ipython",
    "version": 3
   },
   "file_extension": ".py",
   "mimetype": "text/x-python",
   "name": "python",
   "nbconvert_exporter": "python",
   "pygments_lexer": "ipython3",
   "version": "3.8.10"
  }
 },
 "nbformat": 4,
 "nbformat_minor": 5
}
