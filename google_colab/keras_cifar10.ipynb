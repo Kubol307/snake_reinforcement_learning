{
  "nbformat": 4,
  "nbformat_minor": 0,
  "metadata": {
    "colab": {
      "provenance": [],
      "gpuType": "T4"
    },
    "kernelspec": {
      "name": "python3",
      "display_name": "Python 3"
    },
    "language_info": {
      "name": "python"
    },
    "accelerator": "GPU"
  },
  "cells": [
    {
      "cell_type": "code",
      "execution_count": 74,
      "metadata": {
        "id": "b5tqQHRcQxba"
      },
      "outputs": [],
      "source": [
        "import tensorflow as tf\n",
        "from tensorflow.keras.layers import Dense, Input, Conv2D, Flatten, Dropout, BatchNormalization, MaxPool2D\n",
        "from tensorflow.keras.models import Model"
      ]
    },
    {
      "cell_type": "code",
      "source": [
        "import numpy as np\n",
        "import matplotlib.pyplot as plt"
      ],
      "metadata": {
        "id": "NQXC_cQHQ2Z0"
      },
      "execution_count": 2,
      "outputs": []
    },
    {
      "cell_type": "code",
      "source": [
        "(Xtrain, Ytrain), (Xtest, Ytest) = tf.keras.datasets.cifar10.load_data()"
      ],
      "metadata": {
        "colab": {
          "base_uri": "https://localhost:8080/"
        },
        "id": "x6xe_g3FQ3tV",
        "outputId": "336e449a-d4b2-420e-88e4-9103d149ffbe"
      },
      "execution_count": 3,
      "outputs": [
        {
          "output_type": "stream",
          "name": "stdout",
          "text": [
            "Downloading data from https://www.cs.toronto.edu/~kriz/cifar-10-python.tar.gz\n",
            "170498071/170498071 [==============================] - 3s 0us/step\n"
          ]
        }
      ]
    },
    {
      "cell_type": "code",
      "source": [
        "data_generator = tf.keras.preprocessing.image.ImageDataGenerator(height_shift_range=0.2, width_shift_range=0.2, horizontal_flip=True, shear_range=0.1)"
      ],
      "metadata": {
        "id": "EFCE5HNhY7wU"
      },
      "execution_count": 53,
      "outputs": []
    },
    {
      "cell_type": "code",
      "source": [
        "Ytrain = Ytrain.flatten()\n",
        "Ytest = Ytest.flatten()"
      ],
      "metadata": {
        "id": "aa55wcTER-lt"
      },
      "execution_count": 19,
      "outputs": []
    },
    {
      "cell_type": "code",
      "source": [
        "N = Xtrain.shape[0]\n",
        "K = len(set(Ytrain) | set(Ytest))\n",
        "batch_size = 32"
      ],
      "metadata": {
        "id": "VHixUiHyRBOR"
      },
      "execution_count": 42,
      "outputs": []
    },
    {
      "cell_type": "code",
      "source": [
        "Xtrain.shape"
      ],
      "metadata": {
        "colab": {
          "base_uri": "https://localhost:8080/"
        },
        "id": "eKA5T8_rShG3",
        "outputId": "aff1fcbe-1b41-41ac-9376-c8d0fc78afd9"
      },
      "execution_count": 25,
      "outputs": [
        {
          "output_type": "execute_result",
          "data": {
            "text/plain": [
              "(50000, 32, 32, 3)"
            ]
          },
          "metadata": {},
          "execution_count": 25
        }
      ]
    },
    {
      "cell_type": "code",
      "source": [
        "i = Input(shape=(32, 32, 3), batch_size=batch_size)\n",
        "x = Conv2D(32, (3, 3), activation='relu', padding='same')(i)\n",
        "x = BatchNormalization()(x)\n",
        "x = Conv2D(32, (3, 3), activation='relu', padding='same')(x)\n",
        "x = BatchNormalization()(x)\n",
        "x = MaxPool2D((2, 2), 2)(x)\n",
        "x = BatchNormalization()(x)\n",
        "x = Conv2D(64, (3, 3), activation='relu', padding='same')(x)\n",
        "x = BatchNormalization()(x)\n",
        "x = Conv2D(64, (3, 3), activation='relu', padding='same')(x)\n",
        "x = BatchNormalization()(x)\n",
        "x = MaxPool2D((2, 2), 2)(x)\n",
        "x = BatchNormalization()(x)\n",
        "x = Conv2D(128, (3, 3), activation='relu', padding='same')(x)\n",
        "x = BatchNormalization()(x)\n",
        "x = Conv2D(128, (3, 3), activation='relu', padding='same')(x)\n",
        "x = BatchNormalization()(x)\n",
        "x = MaxPool2D((2, 2), 2)(x)\n",
        "x = BatchNormalization()(x)\n",
        "x = Flatten()(x)\n",
        "x = Dropout(0.2)(x)\n",
        "x = Dense(512, activation='relu')(x)\n",
        "x = Dropout(0.2)(x)\n",
        "x = Dense(K, activation='softmax')(x)"
      ],
      "metadata": {
        "id": "RcFi0zHFRM1X"
      },
      "execution_count": 76,
      "outputs": []
    },
    {
      "cell_type": "code",
      "source": [
        "model = Model(i, x)"
      ],
      "metadata": {
        "id": "5NCgJEdFR7OC"
      },
      "execution_count": 77,
      "outputs": []
    },
    {
      "cell_type": "code",
      "source": [
        "model.compile(optimizer=tf.keras.optimizers.Adam(),\n",
        "              loss=tf.keras.losses.sparse_categorical_crossentropy,\n",
        "              metrics=['accuracy'])"
      ],
      "metadata": {
        "id": "HS6atBZQTbJ7"
      },
      "execution_count": 78,
      "outputs": []
    },
    {
      "cell_type": "code",
      "source": [
        "train_generator = data_generator.flow(Xtrain, Ytrain, batch_size=batch_size)"
      ],
      "metadata": {
        "id": "0TY5ydUnZTEP"
      },
      "execution_count": 79,
      "outputs": []
    },
    {
      "cell_type": "code",
      "source": [
        "steps_per_epoch = N // batch_size"
      ],
      "metadata": {
        "id": "CewYuOosZeZj"
      },
      "execution_count": 80,
      "outputs": []
    },
    {
      "cell_type": "code",
      "source": [
        "r = model.fit(Xtrain, Ytrain, validation_data=(Xtest, Ytest), epochs=30, steps_per_epoch=steps_per_epoch)"
      ],
      "metadata": {
        "colab": {
          "base_uri": "https://localhost:8080/"
        },
        "id": "77ARKV4OTI4w",
        "outputId": "3d33cce4-a340-4de4-d07d-c81750fa36a1"
      },
      "execution_count": 81,
      "outputs": [
        {
          "output_type": "stream",
          "name": "stdout",
          "text": [
            "Epoch 1/30\n",
            "1562/1562 [==============================] - 25s 11ms/step - loss: 1.2605 - accuracy: 0.5634 - val_loss: 0.9467 - val_accuracy: 0.6752\n",
            "Epoch 2/30\n",
            "1562/1562 [==============================] - 18s 11ms/step - loss: 0.8042 - accuracy: 0.7194 - val_loss: 0.7499 - val_accuracy: 0.7419\n",
            "Epoch 3/30\n",
            "1562/1562 [==============================] - 17s 11ms/step - loss: 0.6547 - accuracy: 0.7731 - val_loss: 0.6228 - val_accuracy: 0.7874\n",
            "Epoch 4/30\n",
            "1562/1562 [==============================] - 15s 10ms/step - loss: 0.5436 - accuracy: 0.8124 - val_loss: 0.7636 - val_accuracy: 0.7547\n",
            "Epoch 5/30\n",
            "1562/1562 [==============================] - 18s 11ms/step - loss: 0.4550 - accuracy: 0.8423 - val_loss: 0.6655 - val_accuracy: 0.7927\n",
            "Epoch 6/30\n",
            "1562/1562 [==============================] - 15s 10ms/step - loss: 0.3818 - accuracy: 0.8680 - val_loss: 0.6056 - val_accuracy: 0.8108\n",
            "Epoch 7/30\n",
            "1562/1562 [==============================] - 16s 10ms/step - loss: 0.3227 - accuracy: 0.8872 - val_loss: 0.6378 - val_accuracy: 0.8176\n",
            "Epoch 8/30\n",
            "1562/1562 [==============================] - 18s 11ms/step - loss: 0.2657 - accuracy: 0.9070 - val_loss: 0.6770 - val_accuracy: 0.8181\n",
            "Epoch 9/30\n",
            "1562/1562 [==============================] - 16s 10ms/step - loss: 0.2353 - accuracy: 0.9182 - val_loss: 0.6789 - val_accuracy: 0.8225\n",
            "Epoch 10/30\n",
            "1562/1562 [==============================] - 16s 10ms/step - loss: 0.2043 - accuracy: 0.9295 - val_loss: 0.8141 - val_accuracy: 0.7975\n",
            "Epoch 11/30\n",
            "1562/1562 [==============================] - 18s 12ms/step - loss: 0.1821 - accuracy: 0.9367 - val_loss: 0.6523 - val_accuracy: 0.8280\n",
            "Epoch 12/30\n",
            "1562/1562 [==============================] - 18s 11ms/step - loss: 0.1593 - accuracy: 0.9457 - val_loss: 0.6979 - val_accuracy: 0.8232\n",
            "Epoch 13/30\n",
            "1562/1562 [==============================] - 18s 11ms/step - loss: 0.1521 - accuracy: 0.9480 - val_loss: 0.7628 - val_accuracy: 0.8136\n",
            "Epoch 14/30\n",
            "1562/1562 [==============================] - 16s 10ms/step - loss: 0.1374 - accuracy: 0.9533 - val_loss: 0.6996 - val_accuracy: 0.8170\n",
            "Epoch 15/30\n",
            "1562/1562 [==============================] - 17s 11ms/step - loss: 0.1335 - accuracy: 0.9542 - val_loss: 0.7075 - val_accuracy: 0.8263\n",
            "Epoch 16/30\n",
            "1562/1562 [==============================] - 15s 10ms/step - loss: 0.1216 - accuracy: 0.9580 - val_loss: 0.8530 - val_accuracy: 0.8206\n",
            "Epoch 17/30\n",
            "1562/1562 [==============================] - 16s 10ms/step - loss: 0.1152 - accuracy: 0.9614 - val_loss: 0.7293 - val_accuracy: 0.8287\n",
            "Epoch 18/30\n",
            "1562/1562 [==============================] - 17s 11ms/step - loss: 0.1061 - accuracy: 0.9648 - val_loss: 0.7902 - val_accuracy: 0.8274\n",
            "Epoch 19/30\n",
            "1562/1562 [==============================] - 17s 11ms/step - loss: 0.1020 - accuracy: 0.9662 - val_loss: 0.7863 - val_accuracy: 0.8253\n",
            "Epoch 20/30\n",
            "1562/1562 [==============================] - 16s 10ms/step - loss: 0.0994 - accuracy: 0.9667 - val_loss: 0.7444 - val_accuracy: 0.8345\n",
            "Epoch 21/30\n",
            "1562/1562 [==============================] - 15s 10ms/step - loss: 0.0944 - accuracy: 0.9697 - val_loss: 0.7661 - val_accuracy: 0.8353\n",
            "Epoch 22/30\n",
            "1562/1562 [==============================] - 15s 10ms/step - loss: 0.0881 - accuracy: 0.9704 - val_loss: 0.7849 - val_accuracy: 0.8374\n",
            "Epoch 23/30\n",
            "1562/1562 [==============================] - 15s 10ms/step - loss: 0.0866 - accuracy: 0.9707 - val_loss: 0.7816 - val_accuracy: 0.8295\n",
            "Epoch 24/30\n",
            "1562/1562 [==============================] - 15s 10ms/step - loss: 0.0817 - accuracy: 0.9735 - val_loss: 0.7338 - val_accuracy: 0.8288\n",
            "Epoch 25/30\n",
            "1562/1562 [==============================] - 16s 10ms/step - loss: 0.0789 - accuracy: 0.9746 - val_loss: 0.7198 - val_accuracy: 0.8353\n",
            "Epoch 26/30\n",
            "1562/1562 [==============================] - 18s 12ms/step - loss: 0.0785 - accuracy: 0.9738 - val_loss: 0.9199 - val_accuracy: 0.8273\n",
            "Epoch 27/30\n",
            "1562/1562 [==============================] - 20s 13ms/step - loss: 0.0717 - accuracy: 0.9764 - val_loss: 0.9314 - val_accuracy: 0.8226\n",
            "Epoch 28/30\n",
            "1562/1562 [==============================] - 19s 12ms/step - loss: 0.0720 - accuracy: 0.9760 - val_loss: 0.8240 - val_accuracy: 0.8345\n",
            "Epoch 29/30\n",
            "1562/1562 [==============================] - 19s 12ms/step - loss: 0.0707 - accuracy: 0.9770 - val_loss: 0.8187 - val_accuracy: 0.8341\n",
            "Epoch 30/30\n",
            " 177/1562 [==>...........................] - ETA: 14s - loss: 0.0767 - accuracy: 0.9738"
          ]
        },
        {
          "output_type": "stream",
          "name": "stderr",
          "text": [
            "WARNING:tensorflow:Your input ran out of data; interrupting training. Make sure that your dataset or generator can generate at least `steps_per_epoch * epochs` batches (in this case, 46860 batches). You may need to use the repeat() function when building your dataset.\n"
          ]
        },
        {
          "output_type": "stream",
          "name": "stdout",
          "text": [
            "\b\b\b\b\b\b\b\b\b\b\b\b\b\b\b\b\b\b\b\b\b\b\b\b\b\b\b\b\b\b\b\b\b\b\b\b\b\b\b\b\b\b\b\b\b\b\b\b\b\b\b\b\b\b\b\b\b\b\b\b\b\b\b\b\b\b\b\b\b\b\b\b\b\b\b\b\b\b\b\b\b\b\b\b\b\b\b\r1562/1562 [==============================] - 3s 2ms/step - loss: 0.0755 - accuracy: 0.9742 - val_loss: 0.7741 - val_accuracy: 0.8387\n"
          ]
        }
      ]
    },
    {
      "cell_type": "code",
      "source": [
        "r = model.fit(train_generator, validation_data=(Xtest, Ytest), epochs=30, steps_per_epoch=steps_per_epoch)"
      ],
      "metadata": {
        "colab": {
          "base_uri": "https://localhost:8080/"
        },
        "id": "rhiMlez4rRNk",
        "outputId": "fad8cd49-280e-4402-d127-153896613468"
      },
      "execution_count": 82,
      "outputs": [
        {
          "output_type": "stream",
          "name": "stdout",
          "text": [
            "Epoch 1/30\n",
            "1562/1562 [==============================] - 49s 30ms/step - loss: 0.8095 - accuracy: 0.7349 - val_loss: 0.6698 - val_accuracy: 0.7904\n",
            "Epoch 2/30\n",
            "1562/1562 [==============================] - 50s 32ms/step - loss: 0.6533 - accuracy: 0.7807 - val_loss: 0.5391 - val_accuracy: 0.8156\n",
            "Epoch 3/30\n",
            "1562/1562 [==============================] - 48s 31ms/step - loss: 0.5865 - accuracy: 0.8011 - val_loss: 0.4825 - val_accuracy: 0.8368\n",
            "Epoch 4/30\n",
            "1562/1562 [==============================] - 45s 29ms/step - loss: 0.5573 - accuracy: 0.8111 - val_loss: 0.4856 - val_accuracy: 0.8404\n",
            "Epoch 5/30\n",
            "1562/1562 [==============================] - 46s 29ms/step - loss: 0.5290 - accuracy: 0.8199 - val_loss: 0.4438 - val_accuracy: 0.8499\n",
            "Epoch 6/30\n",
            "1562/1562 [==============================] - 44s 28ms/step - loss: 0.5120 - accuracy: 0.8250 - val_loss: 0.4702 - val_accuracy: 0.8419\n",
            "Epoch 7/30\n",
            "1562/1562 [==============================] - 45s 29ms/step - loss: 0.4918 - accuracy: 0.8341 - val_loss: 0.4580 - val_accuracy: 0.8448\n",
            "Epoch 8/30\n",
            "1562/1562 [==============================] - 47s 30ms/step - loss: 0.4767 - accuracy: 0.8363 - val_loss: 0.4525 - val_accuracy: 0.8470\n",
            "Epoch 9/30\n",
            "1562/1562 [==============================] - 47s 30ms/step - loss: 0.4565 - accuracy: 0.8445 - val_loss: 0.4396 - val_accuracy: 0.8540\n",
            "Epoch 10/30\n",
            "1562/1562 [==============================] - 46s 30ms/step - loss: 0.4452 - accuracy: 0.8471 - val_loss: 0.4111 - val_accuracy: 0.8604\n",
            "Epoch 11/30\n",
            "1562/1562 [==============================] - 47s 30ms/step - loss: 0.4411 - accuracy: 0.8484 - val_loss: 0.4792 - val_accuracy: 0.8360\n",
            "Epoch 12/30\n",
            "1562/1562 [==============================] - 46s 30ms/step - loss: 0.4333 - accuracy: 0.8535 - val_loss: 0.4870 - val_accuracy: 0.8390\n",
            "Epoch 13/30\n",
            "1562/1562 [==============================] - 44s 28ms/step - loss: 0.4198 - accuracy: 0.8565 - val_loss: 0.4544 - val_accuracy: 0.8503\n",
            "Epoch 14/30\n",
            "1562/1562 [==============================] - 45s 29ms/step - loss: 0.4106 - accuracy: 0.8599 - val_loss: 0.4274 - val_accuracy: 0.8562\n",
            "Epoch 15/30\n",
            "1562/1562 [==============================] - 45s 29ms/step - loss: 0.4070 - accuracy: 0.8614 - val_loss: 0.4528 - val_accuracy: 0.8531\n",
            "Epoch 16/30\n",
            "1562/1562 [==============================] - 46s 29ms/step - loss: 0.4001 - accuracy: 0.8629 - val_loss: 0.4767 - val_accuracy: 0.8490\n",
            "Epoch 17/30\n",
            "1562/1562 [==============================] - 44s 28ms/step - loss: 0.3936 - accuracy: 0.8649 - val_loss: 0.4175 - val_accuracy: 0.8624\n",
            "Epoch 18/30\n",
            "1562/1562 [==============================] - 47s 30ms/step - loss: 0.3857 - accuracy: 0.8688 - val_loss: 0.4117 - val_accuracy: 0.8662\n",
            "Epoch 19/30\n",
            "1562/1562 [==============================] - 46s 29ms/step - loss: 0.3774 - accuracy: 0.8700 - val_loss: 0.3861 - val_accuracy: 0.8725\n",
            "Epoch 20/30\n",
            "1562/1562 [==============================] - 44s 28ms/step - loss: 0.3731 - accuracy: 0.8719 - val_loss: 0.4587 - val_accuracy: 0.8612\n",
            "Epoch 21/30\n",
            "1562/1562 [==============================] - 48s 31ms/step - loss: 0.3685 - accuracy: 0.8734 - val_loss: 0.4457 - val_accuracy: 0.8574\n",
            "Epoch 22/30\n",
            "1562/1562 [==============================] - 48s 31ms/step - loss: 0.3683 - accuracy: 0.8742 - val_loss: 0.4510 - val_accuracy: 0.8565\n",
            "Epoch 23/30\n",
            "1562/1562 [==============================] - 48s 30ms/step - loss: 0.3589 - accuracy: 0.8791 - val_loss: 0.4037 - val_accuracy: 0.8690\n",
            "Epoch 24/30\n",
            "1562/1562 [==============================] - 47s 30ms/step - loss: 0.3555 - accuracy: 0.8785 - val_loss: 0.3965 - val_accuracy: 0.8700\n",
            "Epoch 25/30\n",
            "1562/1562 [==============================] - 48s 31ms/step - loss: 0.3517 - accuracy: 0.8811 - val_loss: 0.4639 - val_accuracy: 0.8502\n",
            "Epoch 26/30\n",
            "1562/1562 [==============================] - 48s 30ms/step - loss: 0.3518 - accuracy: 0.8810 - val_loss: 0.3820 - val_accuracy: 0.8735\n",
            "Epoch 27/30\n",
            "1562/1562 [==============================] - 45s 29ms/step - loss: 0.3446 - accuracy: 0.8817 - val_loss: 0.4463 - val_accuracy: 0.8614\n",
            "Epoch 28/30\n",
            "1562/1562 [==============================] - 45s 29ms/step - loss: 0.3361 - accuracy: 0.8840 - val_loss: 0.4124 - val_accuracy: 0.8713\n",
            "Epoch 29/30\n",
            "1562/1562 [==============================] - 45s 29ms/step - loss: 0.3340 - accuracy: 0.8837 - val_loss: 0.3992 - val_accuracy: 0.8694\n",
            "Epoch 30/30\n",
            "1562/1562 [==============================] - 43s 28ms/step - loss: 0.3317 - accuracy: 0.8862 - val_loss: 0.4213 - val_accuracy: 0.8684\n"
          ]
        }
      ]
    },
    {
      "cell_type": "code",
      "source": [
        "r = model.history"
      ],
      "metadata": {
        "id": "3qph7ihWUdmG"
      },
      "execution_count": 83,
      "outputs": []
    },
    {
      "cell_type": "code",
      "source": [
        "loss = r.history['loss']\n",
        "val_loss = r.history['val_loss']\n",
        "acc = r.history['accuracy']\n",
        "val_acc = r.history['val_accuracy']"
      ],
      "metadata": {
        "id": "qhRRbKsFUf4T"
      },
      "execution_count": 84,
      "outputs": []
    },
    {
      "cell_type": "code",
      "source": [
        "plt.plot(loss, label='loss')\n",
        "plt.plot(val_loss, label='val_loss')\n",
        "plt.legend()\n",
        "plt.show()"
      ],
      "metadata": {
        "colab": {
          "base_uri": "https://localhost:8080/",
          "height": 430
        },
        "id": "GdIrR_LJUjhY",
        "outputId": "ce5e64b8-2d4c-4dd8-cf7a-42e07801fe73"
      },
      "execution_count": 85,
      "outputs": [
        {
          "output_type": "display_data",
          "data": {
            "text/plain": [
              "<Figure size 640x480 with 1 Axes>"
            ],
            "image/png": "[encoded data removed]"
          },
          "metadata": {}
        }
      ]
    },
    {
      "cell_type": "code",
      "source": [
        "plt.plot(acc, label='acc')\n",
        "plt.plot(val_acc, label='val_acc')\n",
        "plt.legend()\n",
        "plt.show()"
      ],
      "metadata": {
        "colab": {
          "base_uri": "https://localhost:8080/",
          "height": 430
        },
        "id": "c_o54g8VUlUM",
        "outputId": "fe966b8c-adf8-4058-aae1-a6cc5e8e859f"
      },
      "execution_count": 86,
      "outputs": [
        {
          "output_type": "display_data",
          "data": {
            "text/plain": [
              "<Figure size 640x480 with 1 Axes>"
            ],
            "image/png": "[encoded data removed]"
          },
          "metadata": {}
        }
      ]
    }
  ]
}