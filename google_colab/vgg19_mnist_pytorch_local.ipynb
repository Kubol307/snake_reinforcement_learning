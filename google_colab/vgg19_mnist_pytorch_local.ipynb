{
  "cells": [
    {
      "cell_type": "code",
      "execution_count": 2,
      "metadata": {
        "colab": {
          "base_uri": "https://localhost:8080/"
        },
        "id": "aaOGcsIBVT2t",
        "outputId": "e1c592d0-a8b9-4f7a-9b51-92464c76ed80"
      },
      "outputs": [],
      "source": [
        "import torch\n",
        "# from google.colab import drive\n",
        "import pandas as pd\n",
        "import numpy as np\n",
        "from sklearn.utils import shuffle\n",
        "import matplotlib.pyplot as plt\n",
        "import torchvision\n",
        "# drive.mount('/content/gdrive')"
      ]
    },
    {
      "cell_type": "code",
      "execution_count": 3,
      "metadata": {
        "id": "6uNz9M3EY6Fy"
      },
      "outputs": [],
      "source": [
        "DATA_DIR = '~/python/mnist_training/mnist_train.csv'"
      ]
    },
    {
      "cell_type": "code",
      "execution_count": 4,
      "metadata": {
        "id": "6ZsNGRk_ZDV_"
      },
      "outputs": [],
      "source": [
        "def get_data():\n",
        "  data = pd.read_csv(DATA_DIR).to_numpy()\n",
        "  Y = data[:, 0]\n",
        "  X = data[:, 1:]\n",
        "  X = np.reshape(X, (len(X), 28, 28))\n",
        "  X, Y = shuffle(X, Y)\n",
        "  return X, Y"
      ]
    },
    {
      "cell_type": "code",
      "execution_count": 5,
      "metadata": {
        "id": "BX80JtbtZ8Y0"
      },
      "outputs": [],
      "source": [
        "def y2indicator(Y):\n",
        "  N = len(Y)\n",
        "  K = len(set(Y))\n",
        "  y_ind = np.zeros((N, K))\n",
        "  for i in range(N):\n",
        "    y_ind[i, int(Y[i])] = 1\n",
        "  return y_ind"
      ]
    },
    {
      "cell_type": "code",
      "execution_count": 6,
      "metadata": {
        "id": "J2lN5FxocaDw"
      },
      "outputs": [],
      "source": [
        "def train(model, loss, optimizer, inputs, labels):\n",
        "  model.train()\n",
        "\n",
        "  inputs = torch.autograd.Variable(data=inputs, requires_grad=False)\n",
        "  labels = torch.autograd.Variable(data=labels, requires_grad=False)\n",
        "\n",
        "  optimizer.zero_grad()\n",
        "\n",
        "  logits = model.forward(inputs)\n",
        "  output = loss.forward(logits, labels)\n",
        "\n",
        "  output.backward()\n",
        "\n",
        "  optimizer.step()\n",
        "\n",
        "  return output.item()"
      ]
    },
    {
      "cell_type": "code",
      "execution_count": 7,
      "metadata": {
        "id": "OUBYM7uaJbhI"
      },
      "outputs": [],
      "source": [
        "def get_cost(model, loss, inputs, labels):\n",
        "  model.eval()\n",
        "\n",
        "  inputs = torch.autograd.Variable(data=inputs, requires_grad=False)\n",
        "  labels = torch.autograd.Variable(data=labels, requires_grad=False)\n",
        "\n",
        "  logits = model.forward(inputs)\n",
        "  output = loss.forward(logits, labels)\n",
        "\n",
        "  return output.item()"
      ]
    },
    {
      "cell_type": "code",
      "execution_count": 8,
      "metadata": {
        "id": "IXnPbmLJeFXK"
      },
      "outputs": [],
      "source": [
        "def predict(model, inputs):\n",
        "  inputs = torch.autograd.Variable(inputs, requires_grad=False)\n",
        "  logits = model.forward(inputs)\n",
        "  return logits.data.numpy().argmax(axis=1)"
      ]
    },
    {
      "cell_type": "code",
      "execution_count": 10,
      "metadata": {
        "colab": {
          "base_uri": "https://localhost:8080/",
          "height": 392
        },
        "id": "NSN5Li8EVbIR",
        "outputId": "8ab7215d-249d-4a17-93bf-567a86a6eefd"
      },
      "outputs": [
        {
          "ename": "RuntimeError",
          "evalue": "Given groups=1, weight of size [64, 3, 3, 3], expected input[1, 48000, 28, 28] to have 3 channels, but got 48000 channels instead",
          "output_type": "error",
          "traceback": [
            "\u001b[0;31m---------------------------------------------------------------------------\u001b[0m",
            "\u001b[0;31mRuntimeError\u001b[0m                              Traceback (most recent call last)",
            "\u001b[1;32m/home/jakub/python/google_colab/vgg19_mnist_pytorch.ipynb Cell 8\u001b[0m line \u001b[0;36m4\n\u001b[1;32m     <a href='vscode-notebook-cell:/home/jakub/python/google_colab/vgg19_mnist_pytorch.ipynb#X10sZmlsZQ%3D%3D?line=45'>46</a>\u001b[0m   Ybatch \u001b[39m=\u001b[39m Ytrain\n\u001b[1;32m     <a href='vscode-notebook-cell:/home/jakub/python/google_colab/vgg19_mnist_pytorch.ipynb#X10sZmlsZQ%3D%3D?line=46'>47</a>\u001b[0m   \u001b[39m# Xbatch = Xtrain[j*batch_size:(j+1)*batch_size]\u001b[39;00m\n\u001b[1;32m     <a href='vscode-notebook-cell:/home/jakub/python/google_colab/vgg19_mnist_pytorch.ipynb#X10sZmlsZQ%3D%3D?line=47'>48</a>\u001b[0m   \u001b[39m# Ybatch = Ytrain[j*batch_size:(j+1)*batch_size]\u001b[39;00m\n\u001b[0;32m---> <a href='vscode-notebook-cell:/home/jakub/python/google_colab/vgg19_mnist_pytorch.ipynb#X10sZmlsZQ%3D%3D?line=48'>49</a>\u001b[0m   cost \u001b[39m+\u001b[39m\u001b[39m=\u001b[39m train(model, loss, optimizer, Xbatch, Ybatch)\n\u001b[1;32m     <a href='vscode-notebook-cell:/home/jakub/python/google_colab/vgg19_mnist_pytorch.ipynb#X10sZmlsZQ%3D%3D?line=50'>51</a>\u001b[0m val_cost \u001b[39m=\u001b[39m get_cost(model, loss, Xtest, Ytest)\n\u001b[1;32m     <a href='vscode-notebook-cell:/home/jakub/python/google_colab/vgg19_mnist_pytorch.ipynb#X10sZmlsZQ%3D%3D?line=51'>52</a>\u001b[0m val_costs\u001b[39m.\u001b[39mappend(val_cost)\n",
            "\u001b[1;32m/home/jakub/python/google_colab/vgg19_mnist_pytorch.ipynb Cell 8\u001b[0m line \u001b[0;36m9\n\u001b[1;32m      <a href='vscode-notebook-cell:/home/jakub/python/google_colab/vgg19_mnist_pytorch.ipynb#X10sZmlsZQ%3D%3D?line=4'>5</a>\u001b[0m labels \u001b[39m=\u001b[39m torch\u001b[39m.\u001b[39mautograd\u001b[39m.\u001b[39mVariable(data\u001b[39m=\u001b[39mlabels, requires_grad\u001b[39m=\u001b[39m\u001b[39mFalse\u001b[39;00m)\n\u001b[1;32m      <a href='vscode-notebook-cell:/home/jakub/python/google_colab/vgg19_mnist_pytorch.ipynb#X10sZmlsZQ%3D%3D?line=6'>7</a>\u001b[0m optimizer\u001b[39m.\u001b[39mzero_grad()\n\u001b[0;32m----> <a href='vscode-notebook-cell:/home/jakub/python/google_colab/vgg19_mnist_pytorch.ipynb#X10sZmlsZQ%3D%3D?line=8'>9</a>\u001b[0m logits \u001b[39m=\u001b[39m model\u001b[39m.\u001b[39;49mforward(inputs)\n\u001b[1;32m     <a href='vscode-notebook-cell:/home/jakub/python/google_colab/vgg19_mnist_pytorch.ipynb#X10sZmlsZQ%3D%3D?line=9'>10</a>\u001b[0m output \u001b[39m=\u001b[39m loss\u001b[39m.\u001b[39mforward(logits, labels)\n\u001b[1;32m     <a href='vscode-notebook-cell:/home/jakub/python/google_colab/vgg19_mnist_pytorch.ipynb#X10sZmlsZQ%3D%3D?line=11'>12</a>\u001b[0m output\u001b[39m.\u001b[39mbackward()\n",
            "File \u001b[0;32m~/.local/lib/python3.8/site-packages/torchvision/models/vgg.py:66\u001b[0m, in \u001b[0;36mVGG.forward\u001b[0;34m(self, x)\u001b[0m\n\u001b[1;32m     65\u001b[0m \u001b[39mdef\u001b[39;00m \u001b[39mforward\u001b[39m(\u001b[39mself\u001b[39m, x: torch\u001b[39m.\u001b[39mTensor) \u001b[39m-\u001b[39m\u001b[39m>\u001b[39m torch\u001b[39m.\u001b[39mTensor:\n\u001b[0;32m---> 66\u001b[0m     x \u001b[39m=\u001b[39m \u001b[39mself\u001b[39;49m\u001b[39m.\u001b[39;49mfeatures(x)\n\u001b[1;32m     67\u001b[0m     x \u001b[39m=\u001b[39m \u001b[39mself\u001b[39m\u001b[39m.\u001b[39mavgpool(x)\n\u001b[1;32m     68\u001b[0m     x \u001b[39m=\u001b[39m torch\u001b[39m.\u001b[39mflatten(x, \u001b[39m1\u001b[39m)\n",
            "File \u001b[0;32m~/.local/lib/python3.8/site-packages/torch/nn/modules/module.py:1518\u001b[0m, in \u001b[0;36mModule._wrapped_call_impl\u001b[0;34m(self, *args, **kwargs)\u001b[0m\n\u001b[1;32m   1516\u001b[0m     \u001b[39mreturn\u001b[39;00m \u001b[39mself\u001b[39m\u001b[39m.\u001b[39m_compiled_call_impl(\u001b[39m*\u001b[39margs, \u001b[39m*\u001b[39m\u001b[39m*\u001b[39mkwargs)  \u001b[39m# type: ignore[misc]\u001b[39;00m\n\u001b[1;32m   1517\u001b[0m \u001b[39melse\u001b[39;00m:\n\u001b[0;32m-> 1518\u001b[0m     \u001b[39mreturn\u001b[39;00m \u001b[39mself\u001b[39;49m\u001b[39m.\u001b[39;49m_call_impl(\u001b[39m*\u001b[39;49margs, \u001b[39m*\u001b[39;49m\u001b[39m*\u001b[39;49mkwargs)\n",
            "File \u001b[0;32m~/.local/lib/python3.8/site-packages/torch/nn/modules/module.py:1527\u001b[0m, in \u001b[0;36mModule._call_impl\u001b[0;34m(self, *args, **kwargs)\u001b[0m\n\u001b[1;32m   1522\u001b[0m \u001b[39m# If we don't have any hooks, we want to skip the rest of the logic in\u001b[39;00m\n\u001b[1;32m   1523\u001b[0m \u001b[39m# this function, and just call forward.\u001b[39;00m\n\u001b[1;32m   1524\u001b[0m \u001b[39mif\u001b[39;00m \u001b[39mnot\u001b[39;00m (\u001b[39mself\u001b[39m\u001b[39m.\u001b[39m_backward_hooks \u001b[39mor\u001b[39;00m \u001b[39mself\u001b[39m\u001b[39m.\u001b[39m_backward_pre_hooks \u001b[39mor\u001b[39;00m \u001b[39mself\u001b[39m\u001b[39m.\u001b[39m_forward_hooks \u001b[39mor\u001b[39;00m \u001b[39mself\u001b[39m\u001b[39m.\u001b[39m_forward_pre_hooks\n\u001b[1;32m   1525\u001b[0m         \u001b[39mor\u001b[39;00m _global_backward_pre_hooks \u001b[39mor\u001b[39;00m _global_backward_hooks\n\u001b[1;32m   1526\u001b[0m         \u001b[39mor\u001b[39;00m _global_forward_hooks \u001b[39mor\u001b[39;00m _global_forward_pre_hooks):\n\u001b[0;32m-> 1527\u001b[0m     \u001b[39mreturn\u001b[39;00m forward_call(\u001b[39m*\u001b[39;49margs, \u001b[39m*\u001b[39;49m\u001b[39m*\u001b[39;49mkwargs)\n\u001b[1;32m   1529\u001b[0m \u001b[39mtry\u001b[39;00m:\n\u001b[1;32m   1530\u001b[0m     result \u001b[39m=\u001b[39m \u001b[39mNone\u001b[39;00m\n",
            "File \u001b[0;32m~/.local/lib/python3.8/site-packages/torch/nn/modules/container.py:215\u001b[0m, in \u001b[0;36mSequential.forward\u001b[0;34m(self, input)\u001b[0m\n\u001b[1;32m    213\u001b[0m \u001b[39mdef\u001b[39;00m \u001b[39mforward\u001b[39m(\u001b[39mself\u001b[39m, \u001b[39minput\u001b[39m):\n\u001b[1;32m    214\u001b[0m     \u001b[39mfor\u001b[39;00m module \u001b[39min\u001b[39;00m \u001b[39mself\u001b[39m:\n\u001b[0;32m--> 215\u001b[0m         \u001b[39minput\u001b[39m \u001b[39m=\u001b[39m module(\u001b[39minput\u001b[39;49m)\n\u001b[1;32m    216\u001b[0m     \u001b[39mreturn\u001b[39;00m \u001b[39minput\u001b[39m\n",
            "File \u001b[0;32m~/.local/lib/python3.8/site-packages/torch/nn/modules/module.py:1518\u001b[0m, in \u001b[0;36mModule._wrapped_call_impl\u001b[0;34m(self, *args, **kwargs)\u001b[0m\n\u001b[1;32m   1516\u001b[0m     \u001b[39mreturn\u001b[39;00m \u001b[39mself\u001b[39m\u001b[39m.\u001b[39m_compiled_call_impl(\u001b[39m*\u001b[39margs, \u001b[39m*\u001b[39m\u001b[39m*\u001b[39mkwargs)  \u001b[39m# type: ignore[misc]\u001b[39;00m\n\u001b[1;32m   1517\u001b[0m \u001b[39melse\u001b[39;00m:\n\u001b[0;32m-> 1518\u001b[0m     \u001b[39mreturn\u001b[39;00m \u001b[39mself\u001b[39;49m\u001b[39m.\u001b[39;49m_call_impl(\u001b[39m*\u001b[39;49margs, \u001b[39m*\u001b[39;49m\u001b[39m*\u001b[39;49mkwargs)\n",
            "File \u001b[0;32m~/.local/lib/python3.8/site-packages/torch/nn/modules/module.py:1527\u001b[0m, in \u001b[0;36mModule._call_impl\u001b[0;34m(self, *args, **kwargs)\u001b[0m\n\u001b[1;32m   1522\u001b[0m \u001b[39m# If we don't have any hooks, we want to skip the rest of the logic in\u001b[39;00m\n\u001b[1;32m   1523\u001b[0m \u001b[39m# this function, and just call forward.\u001b[39;00m\n\u001b[1;32m   1524\u001b[0m \u001b[39mif\u001b[39;00m \u001b[39mnot\u001b[39;00m (\u001b[39mself\u001b[39m\u001b[39m.\u001b[39m_backward_hooks \u001b[39mor\u001b[39;00m \u001b[39mself\u001b[39m\u001b[39m.\u001b[39m_backward_pre_hooks \u001b[39mor\u001b[39;00m \u001b[39mself\u001b[39m\u001b[39m.\u001b[39m_forward_hooks \u001b[39mor\u001b[39;00m \u001b[39mself\u001b[39m\u001b[39m.\u001b[39m_forward_pre_hooks\n\u001b[1;32m   1525\u001b[0m         \u001b[39mor\u001b[39;00m _global_backward_pre_hooks \u001b[39mor\u001b[39;00m _global_backward_hooks\n\u001b[1;32m   1526\u001b[0m         \u001b[39mor\u001b[39;00m _global_forward_hooks \u001b[39mor\u001b[39;00m _global_forward_pre_hooks):\n\u001b[0;32m-> 1527\u001b[0m     \u001b[39mreturn\u001b[39;00m forward_call(\u001b[39m*\u001b[39;49margs, \u001b[39m*\u001b[39;49m\u001b[39m*\u001b[39;49mkwargs)\n\u001b[1;32m   1529\u001b[0m \u001b[39mtry\u001b[39;00m:\n\u001b[1;32m   1530\u001b[0m     result \u001b[39m=\u001b[39m \u001b[39mNone\u001b[39;00m\n",
            "File \u001b[0;32m~/.local/lib/python3.8/site-packages/torch/nn/modules/conv.py:460\u001b[0m, in \u001b[0;36mConv2d.forward\u001b[0;34m(self, input)\u001b[0m\n\u001b[1;32m    459\u001b[0m \u001b[39mdef\u001b[39;00m \u001b[39mforward\u001b[39m(\u001b[39mself\u001b[39m, \u001b[39minput\u001b[39m: Tensor) \u001b[39m-\u001b[39m\u001b[39m>\u001b[39m Tensor:\n\u001b[0;32m--> 460\u001b[0m     \u001b[39mreturn\u001b[39;00m \u001b[39mself\u001b[39;49m\u001b[39m.\u001b[39;49m_conv_forward(\u001b[39minput\u001b[39;49m, \u001b[39mself\u001b[39;49m\u001b[39m.\u001b[39;49mweight, \u001b[39mself\u001b[39;49m\u001b[39m.\u001b[39;49mbias)\n",
            "File \u001b[0;32m~/.local/lib/python3.8/site-packages/torch/nn/modules/conv.py:456\u001b[0m, in \u001b[0;36mConv2d._conv_forward\u001b[0;34m(self, input, weight, bias)\u001b[0m\n\u001b[1;32m    452\u001b[0m \u001b[39mif\u001b[39;00m \u001b[39mself\u001b[39m\u001b[39m.\u001b[39mpadding_mode \u001b[39m!=\u001b[39m \u001b[39m'\u001b[39m\u001b[39mzeros\u001b[39m\u001b[39m'\u001b[39m:\n\u001b[1;32m    453\u001b[0m     \u001b[39mreturn\u001b[39;00m F\u001b[39m.\u001b[39mconv2d(F\u001b[39m.\u001b[39mpad(\u001b[39minput\u001b[39m, \u001b[39mself\u001b[39m\u001b[39m.\u001b[39m_reversed_padding_repeated_twice, mode\u001b[39m=\u001b[39m\u001b[39mself\u001b[39m\u001b[39m.\u001b[39mpadding_mode),\n\u001b[1;32m    454\u001b[0m                     weight, bias, \u001b[39mself\u001b[39m\u001b[39m.\u001b[39mstride,\n\u001b[1;32m    455\u001b[0m                     _pair(\u001b[39m0\u001b[39m), \u001b[39mself\u001b[39m\u001b[39m.\u001b[39mdilation, \u001b[39mself\u001b[39m\u001b[39m.\u001b[39mgroups)\n\u001b[0;32m--> 456\u001b[0m \u001b[39mreturn\u001b[39;00m F\u001b[39m.\u001b[39;49mconv2d(\u001b[39minput\u001b[39;49m, weight, bias, \u001b[39mself\u001b[39;49m\u001b[39m.\u001b[39;49mstride,\n\u001b[1;32m    457\u001b[0m                 \u001b[39mself\u001b[39;49m\u001b[39m.\u001b[39;49mpadding, \u001b[39mself\u001b[39;49m\u001b[39m.\u001b[39;49mdilation, \u001b[39mself\u001b[39;49m\u001b[39m.\u001b[39;49mgroups)\n",
            "\u001b[0;31mRuntimeError\u001b[0m: Given groups=1, weight of size [64, 3, 3, 3], expected input[1, 48000, 28, 28] to have 3 channels, but got 48000 channels instead"
          ]
        }
      ],
      "source": [
        "validation_split = 0.2\n",
        "\n",
        "X, Y = get_data()\n",
        "Xtrain = X[:-int(validation_split*len(X))]\n",
        "Ytrain = Y[:-int(validation_split*len(X))]\n",
        "Xtest = X[-int(validation_split*len(X)):]\n",
        "Ytest = Y[-int(validation_split*len(X)):]\n",
        "\n",
        "N, D = Xtrain.shape[1], Xtrain.shape[2]\n",
        "K = len(set(Ytrain) | set(Ytest))\n",
        "\n",
        "model = torchvision.models.vgg19_bn()\n",
        "# model.add_module('Dropout1', torch.nn.Dropout(p=0.2))\n",
        "# model.add_module('Dense1', torch.nn.Linear(D, 500))\n",
        "# model.add_module('Batchnorm1', torch.nn.BatchNorm1d(500))\n",
        "# model.add_module('ReLU1', torch.nn.ReLU())\n",
        "# model.add_module('Dropout2', torch.nn.Dropout(p=0.2))\n",
        "# model.add_module('Dense2', torch.nn.Linear(500, 300))\n",
        "# model.add_module('Batchnorm2', torch.nn.BatchNorm1d(300))\n",
        "# model.add_module('ReLU2', torch.nn.ReLU())\n",
        "# model.add_module('Dropout3', torch.nn.Dropout(p=0.2))\n",
        "# model.add_module('Dense3', torch.nn.Linear(300, K))\n",
        "# model.add_module('Softmax', torch.nn.Softmax(K))\n",
        "\n",
        "loss = torch.nn.CrossEntropyLoss()\n",
        "\n",
        "optimizer = torch.optim.Adam(model.parameters())\n",
        "\n",
        "Xtrain = torch.from_numpy(Xtrain).float()\n",
        "Ytrain = torch.from_numpy(Ytrain).long()\n",
        "Xtest = torch.from_numpy(Xtest).float()\n",
        "Ytest = torch.from_numpy(Ytest).long()\n",
        "# Ytest = torch.from_numpy(Ytest).float()\n",
        "\n",
        "epochs = 15\n",
        "batch_size = 32\n",
        "num_batches = Xtrain.size()[0] // batch_size\n",
        "\n",
        "costs = []\n",
        "accuracies = []\n",
        "val_costs = []\n",
        "for i in range(epochs):\n",
        "  cost = 0.\n",
        "  for j in range(num_batches):\n",
        "    Xbatch = Xtrain[j*batch_size:(j+1)*batch_size]\n",
        "    Ybatch = Ytrain[j*batch_size:(j+1)*batch_size]\n",
        "    cost += train(model, loss, optimizer, Xbatch, Ybatch)\n",
        "\n",
        "  val_cost = get_cost(model, loss, Xtest, Ytest)\n",
        "  val_costs.append(val_cost)\n",
        "  costs.append(cost)\n",
        "  Ypred = predict(model, Xtest)\n",
        "  accuracy = np.mean(Ypred == Ytest)\n",
        "  accuracies.append(accuracy)\n",
        "  print(f'Cost: {cost}, accuracy: {accuracy}, validation cost: {val_cost}, i: {i}')\n",
        "plt.plot(val_cost, label='val_cost')\n",
        "plt.plot(costs, label='cost')\n",
        "plt.legend()\n",
        "# plt.plot(acc)\n",
        "plt.show()\n",
        "\n"
      ]
    },
    {
      "cell_type": "code",
      "execution_count": null,
      "metadata": {
        "id": "Cm7UlmmirnVM"
      },
      "outputs": [],
      "source": [
        "plt.plot(val_costs, label='val_cost')"
      ]
    },
    {
      "cell_type": "code",
      "execution_count": null,
      "metadata": {
        "id": "OALARc2lZain"
      },
      "outputs": [],
      "source": [
        "plt.plot(accuracies)"
      ]
    }
  ],
  "metadata": {
    "colab": {
      "provenance": []
    },
    "kernelspec": {
      "display_name": "Python 3",
      "name": "python3"
    },
    "language_info": {
      "codemirror_mode": {
        "name": "ipython",
        "version": 3
      },
      "file_extension": ".py",
      "mimetype": "text/x-python",
      "name": "python",
      "nbconvert_exporter": "python",
      "pygments_lexer": "ipython3",
      "version": "3.8.10"
    }
  },
  "nbformat": 4,
  "nbformat_minor": 0
}
